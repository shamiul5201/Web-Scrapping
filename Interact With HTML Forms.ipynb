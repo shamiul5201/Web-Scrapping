{
 "cells": [
  {
   "cell_type": "code",
   "execution_count": 1,
   "id": "05109bfe",
   "metadata": {},
   "outputs": [
    {
     "name": "stdout",
     "output_type": "stream",
     "text": [
      "Requirement already satisfied: MechanicalSoup in /home/ubuntu/anaconda3/lib/python3.9/site-packages (1.2.0)\n",
      "Requirement already satisfied: requests>=2.22.0 in /home/ubuntu/anaconda3/lib/python3.9/site-packages (from MechanicalSoup) (2.27.1)\n",
      "Requirement already satisfied: lxml in /home/ubuntu/anaconda3/lib/python3.9/site-packages (from MechanicalSoup) (4.8.0)\n",
      "Requirement already satisfied: beautifulsoup4>=4.7 in /home/ubuntu/anaconda3/lib/python3.9/site-packages (from MechanicalSoup) (4.11.1)\n",
      "Requirement already satisfied: soupsieve>1.2 in /home/ubuntu/anaconda3/lib/python3.9/site-packages (from beautifulsoup4>=4.7->MechanicalSoup) (2.3.1)\n",
      "Requirement already satisfied: idna<4,>=2.5 in /home/ubuntu/anaconda3/lib/python3.9/site-packages (from requests>=2.22.0->MechanicalSoup) (3.3)\n",
      "Requirement already satisfied: certifi>=2017.4.17 in /home/ubuntu/anaconda3/lib/python3.9/site-packages (from requests>=2.22.0->MechanicalSoup) (2021.10.8)\n",
      "Requirement already satisfied: charset-normalizer~=2.0.0 in /home/ubuntu/anaconda3/lib/python3.9/site-packages (from requests>=2.22.0->MechanicalSoup) (2.0.4)\n",
      "Requirement already satisfied: urllib3<1.27,>=1.21.1 in /home/ubuntu/anaconda3/lib/python3.9/site-packages (from requests>=2.22.0->MechanicalSoup) (1.26.9)\n",
      "Note: you may need to restart the kernel to use updated packages.\n"
     ]
    }
   ],
   "source": [
    "pip install MechanicalSoup"
   ]
  },
  {
   "cell_type": "code",
   "execution_count": 2,
   "id": "1a493653",
   "metadata": {},
   "outputs": [
    {
     "name": "stdout",
     "output_type": "stream",
     "text": [
      "Name: MechanicalSoup\n",
      "Version: 1.2.0\n",
      "Summary: A Python library for automating interaction with websites\n",
      "Home-page: https://mechanicalsoup.readthedocs.io/\n",
      "Author: \n",
      "Author-email: \n",
      "License: MIT\n",
      "Location: /home/ubuntu/anaconda3/lib/python3.9/site-packages\n",
      "Requires: lxml, beautifulsoup4, requests\n",
      "Required-by: \n",
      "Note: you may need to restart the kernel to use updated packages.\n"
     ]
    }
   ],
   "source": [
    "pip show mechanicalsoup"
   ]
  },
  {
   "cell_type": "markdown",
   "id": "61870664",
   "metadata": {},
   "source": [
    "## Create a Browser Object"
   ]
  },
  {
   "cell_type": "code",
   "execution_count": 3,
   "id": "b9b3007c",
   "metadata": {},
   "outputs": [],
   "source": [
    "import mechanicalsoup\n",
    "browser = mechanicalsoup.Browser()"
   ]
  },
  {
   "cell_type": "code",
   "execution_count": 4,
   "id": "9c06979d",
   "metadata": {},
   "outputs": [
    {
     "data": {
      "text/plain": [
       "<Response [200]>"
      ]
     },
     "execution_count": 4,
     "metadata": {},
     "output_type": "execute_result"
    }
   ],
   "source": [
    "url = \"http://olympus.realpython.org/login\"\n",
    "login_page = browser.get(url)\n",
    "login_page"
   ]
  },
  {
   "cell_type": "code",
   "execution_count": 5,
   "id": "cf0469dd",
   "metadata": {},
   "outputs": [
    {
     "data": {
      "text/plain": [
       "bs4.BeautifulSoup"
      ]
     },
     "execution_count": 5,
     "metadata": {},
     "output_type": "execute_result"
    }
   ],
   "source": [
    "type(login_page.soup)"
   ]
  },
  {
   "cell_type": "code",
   "execution_count": 6,
   "id": "3a3345ff",
   "metadata": {},
   "outputs": [
    {
     "data": {
      "text/plain": [
       "<html>\n",
       "<head>\n",
       "<title>Log In</title>\n",
       "</head>\n",
       "<body bgcolor=\"yellow\">\n",
       "<center>\n",
       "<br/><br/>\n",
       "<h2>Please log in to access Mount Olympus:</h2>\n",
       "<br/><br/>\n",
       "<form action=\"/login\" method=\"post\" name=\"login\">\n",
       "Username: <input name=\"user\" type=\"text\"/><br/>\n",
       "Password: <input name=\"pwd\" type=\"password\"/><br/><br/>\n",
       "<input type=\"submit\" value=\"Submit\"/>\n",
       "</form>\n",
       "</center>\n",
       "</body>\n",
       "</html>"
      ]
     },
     "execution_count": 6,
     "metadata": {},
     "output_type": "execute_result"
    }
   ],
   "source": [
    "login_page.soup"
   ]
  },
  {
   "cell_type": "markdown",
   "id": "6162f3c5",
   "metadata": {},
   "source": [
    "## Submit a form with mechanicalSoup"
   ]
  },
  {
   "cell_type": "code",
   "execution_count": 7,
   "id": "a4982d9b",
   "metadata": {},
   "outputs": [],
   "source": [
    "login_html = login_page.soup"
   ]
  },
  {
   "cell_type": "code",
   "execution_count": 8,
   "id": "ae34dcb1",
   "metadata": {},
   "outputs": [],
   "source": [
    "form = login_html.select(\"form\")[0]\n",
    "form.select(\"input\")[0][\"value\"] = \"shamiul\"\n",
    "form.select(\"input\")[1][\"value\"] = \"ThunderDude\""
   ]
  },
  {
   "cell_type": "code",
   "execution_count": 9,
   "id": "7fda937e",
   "metadata": {},
   "outputs": [],
   "source": [
    "profiles_page = browser.submit(form, login_page.url)"
   ]
  },
  {
   "cell_type": "code",
   "execution_count": 10,
   "id": "00ce9693",
   "metadata": {},
   "outputs": [
    {
     "data": {
      "text/plain": [
       "'http://olympus.realpython.org/login'"
      ]
     },
     "execution_count": 10,
     "metadata": {},
     "output_type": "execute_result"
    }
   ],
   "source": [
    "profiles_page.url"
   ]
  },
  {
   "cell_type": "code",
   "execution_count": 11,
   "id": "e5a2d68f",
   "metadata": {},
   "outputs": [],
   "source": [
    "links = profiles_page.soup.select(\"a\")"
   ]
  },
  {
   "cell_type": "code",
   "execution_count": 12,
   "id": "acd226e0",
   "metadata": {},
   "outputs": [],
   "source": [
    "for link in links:\n",
    "    address = link[\"href\"]\n",
    "    text = link.text\n",
    "    print(f\"{text}: {address}\")"
   ]
  },
  {
   "cell_type": "code",
   "execution_count": 15,
   "id": "5e2d3a1b",
   "metadata": {},
   "outputs": [],
   "source": [
    "base_url = \"http://olympus.realpython.org\"\n",
    "for link in links:\n",
    "    address = base_url + link[\"href\"]\n",
    "    text = link.text\n",
    "    print(f\"{text}: {address}\")"
   ]
  },
  {
   "cell_type": "code",
   "execution_count": null,
   "id": "c52a2fcc",
   "metadata": {},
   "outputs": [],
   "source": []
  }
 ],
 "metadata": {
  "kernelspec": {
   "display_name": "Python 3 (ipykernel)",
   "language": "python",
   "name": "python3"
  },
  "language_info": {
   "codemirror_mode": {
    "name": "ipython",
    "version": 3
   },
   "file_extension": ".py",
   "mimetype": "text/x-python",
   "name": "python",
   "nbconvert_exporter": "python",
   "pygments_lexer": "ipython3",
   "version": "3.9.12"
  }
 },
 "nbformat": 4,
 "nbformat_minor": 5
}
