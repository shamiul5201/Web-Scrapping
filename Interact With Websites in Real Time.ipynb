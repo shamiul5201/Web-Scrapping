{
 "cells": [
  {
   "cell_type": "code",
   "execution_count": 2,
   "id": "4e614f46",
   "metadata": {},
   "outputs": [],
   "source": [
    "import mechanicalsoup"
   ]
  },
  {
   "cell_type": "code",
   "execution_count": 3,
   "id": "b8b3c5e8",
   "metadata": {},
   "outputs": [],
   "source": [
    "browser = mechanicalsoup.Browser()\n",
    "page = browser.get(\"http://olympus.realpython.org/dice\")\n",
    "tag = page.soup.select(\"#result\")[0]\n",
    "result = tag.text"
   ]
  },
  {
   "cell_type": "code",
   "execution_count": 4,
   "id": "3d4b5f43",
   "metadata": {},
   "outputs": [
    {
     "name": "stdout",
     "output_type": "stream",
     "text": [
      "The result of your dice roll is: 2\n"
     ]
    }
   ],
   "source": [
    "print(f\"The result of your dice roll is: {result}\")"
   ]
  },
  {
   "cell_type": "markdown",
   "id": "6b5a235b",
   "metadata": {},
   "source": [
    "## sleep function()"
   ]
  },
  {
   "cell_type": "code",
   "execution_count": 5,
   "id": "4244bf58",
   "metadata": {},
   "outputs": [
    {
     "name": "stdout",
     "output_type": "stream",
     "text": [
      "I'm about to wait for five seconds...\n",
      "Done waiting!\n"
     ]
    }
   ],
   "source": [
    "import time\n",
    "\n",
    "print(\"I'm about to wait for five seconds...\")\n",
    "time.sleep(5)\n",
    "print(\"Done waiting!\")"
   ]
  },
  {
   "cell_type": "markdown",
   "id": "8b84af7e",
   "metadata": {},
   "source": [
    "## die roll example"
   ]
  },
  {
   "cell_type": "code",
   "execution_count": 6,
   "id": "138d76aa",
   "metadata": {},
   "outputs": [],
   "source": [
    "browser = mechanicalsoup.Browser()"
   ]
  },
  {
   "cell_type": "code",
   "execution_count": 7,
   "id": "bbc21032",
   "metadata": {},
   "outputs": [
    {
     "name": "stdout",
     "output_type": "stream",
     "text": [
      "The result of your dice roll is: 6\n",
      "The result of your dice roll is: 4\n",
      "The result of your dice roll is: 5\n",
      "The result of your dice roll is: 4\n"
     ]
    }
   ],
   "source": [
    "for i in range(4):\n",
    "    page = browser.get(\"http://olympus.realpython.org/dice\")\n",
    "    tag = page.soup.select(\"#result\")[0]\n",
    "    result = tag.text\n",
    "    print(f\"The result of your dice roll is: {result}\")\n",
    "    time.sleep(10)"
   ]
  },
  {
   "cell_type": "markdown",
   "id": "aeb61771",
   "metadata": {},
   "source": [
    "## Another suitable example"
   ]
  },
  {
   "cell_type": "code",
   "execution_count": 8,
   "id": "8648bd85",
   "metadata": {},
   "outputs": [
    {
     "name": "stdout",
     "output_type": "stream",
     "text": [
      "The result of your dice roll is: 6\n",
      "The result of your dice roll is: 6\n",
      "The result of your dice roll is: 6\n",
      "The result of your dice roll is: 1\n"
     ]
    }
   ],
   "source": [
    "for i in range(4):\n",
    "    page = browser.get(\"http://olympus.realpython.org/dice\")\n",
    "    tag = page.soup.select(\"#result\")[0]\n",
    "    result = tag.text\n",
    "    print(f\"The result of your dice roll is: {result}\")\n",
    "\n",
    "    # Wait 10 seconds if this isn't the last request\n",
    "    if i < 3:\n",
    "        time.sleep(10)"
   ]
  },
  {
   "cell_type": "code",
   "execution_count": null,
   "id": "89a7a0cd",
   "metadata": {},
   "outputs": [],
   "source": []
  }
 ],
 "metadata": {
  "kernelspec": {
   "display_name": "Python 3 (ipykernel)",
   "language": "python",
   "name": "python3"
  },
  "language_info": {
   "codemirror_mode": {
    "name": "ipython",
    "version": 3
   },
   "file_extension": ".py",
   "mimetype": "text/x-python",
   "name": "python",
   "nbconvert_exporter": "python",
   "pygments_lexer": "ipython3",
   "version": "3.9.12"
  }
 },
 "nbformat": 4,
 "nbformat_minor": 5
}
